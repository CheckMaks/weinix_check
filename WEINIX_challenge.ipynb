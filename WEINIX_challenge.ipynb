{
 "cells": [
  {
   "cell_type": "code",
   "execution_count": 1,
   "metadata": {},
   "outputs": [],
   "source": [
    "import sys\n",
    "import csv\n",
    "\n",
    "from pyspark import SparkContext\n",
    "from functools import reduce\n",
    "import re\n",
    "from pyspark.sql.functions import *\n",
    "from pyspark.sql.types import *\n",
    "from datetime import datetime\n"
   ]
  },
  {
   "cell_type": "code",
   "execution_count": 2,
   "metadata": {},
   "outputs": [],
   "source": [
    "spark.read.csv(\"/Users/maksim/Downloads/wechat_data_medium/weixin_biz\", sep='\\t', header=False).write.saveAsTable('weixin_biz', mode='overwrite')\n",
    "spark.read.csv(\"/Users/maksim/Downloads/wechat_data_medium/weixin_click\", sep='\\t', header=False).write.saveAsTable('weixin_click', mode='overwrite')\n"
   ]
  },
  {
   "cell_type": "code",
   "execution_count": 3,
   "metadata": {},
   "outputs": [],
   "source": [
    "total_weixin_biz = spark.read.table('weixin_biz')\n",
    "total_weixin_click = spark.read.table('weixin_click')\n",
    "\n"
   ]
  },
  {
   "cell_type": "code",
   "execution_count": 4,
   "metadata": {},
   "outputs": [
    {
     "name": "stdout",
     "output_type": "stream",
     "text": [
      "root\n",
      " |-- _c0: string (nullable = true)\n",
      " |-- _c1: string (nullable = true)\n",
      " |-- _c2: string (nullable = true)\n",
      " |-- _c3: string (nullable = true)\n",
      " |-- _c4: string (nullable = true)\n",
      " |-- _c5: string (nullable = true)\n",
      " |-- _c6: string (nullable = true)\n",
      " |-- _c7: string (nullable = true)\n",
      "\n",
      "root\n",
      " |-- _c0: string (nullable = true)\n",
      " |-- _c1: string (nullable = true)\n",
      " |-- _c2: string (nullable = true)\n",
      " |-- _c3: string (nullable = true)\n",
      " |-- _c4: string (nullable = true)\n",
      " |-- _c5: string (nullable = true)\n",
      " |-- _c6: string (nullable = true)\n",
      "\n"
     ]
    }
   ],
   "source": [
    "total_weixin_biz.printSchema()\n",
    "total_weixin_click.printSchema()\n"
   ]
  },
  {
   "cell_type": "code",
   "execution_count": 5,
   "metadata": {},
   "outputs": [
    {
     "name": "stdout",
     "output_type": "stream",
     "text": [
      "root\n",
      " |-- _c0: string (nullable = true)\n",
      " |-- _c1: string (nullable = true)\n",
      " |-- _c2: string (nullable = true)\n",
      " |-- _c3: string (nullable = true)\n",
      " |-- _c4: string (nullable = true)\n",
      " |-- _c5: string (nullable = true)\n",
      " |-- _c7: string (nullable = true)\n",
      "\n",
      "root\n",
      " |-- _c0: string (nullable = true)\n",
      " |-- _c1: string (nullable = true)\n",
      " |-- _c2: string (nullable = true)\n",
      " |-- _c3: string (nullable = true)\n",
      " |-- _c4: string (nullable = true)\n",
      " |-- _c6: string (nullable = true)\n",
      "\n"
     ]
    }
   ],
   "source": [
    "total_weixin_biz = total_weixin_biz.drop(\"_c6\") #nothing about this field in task(email)\n",
    "total_weixin_click = total_weixin_click.drop(\"_c5\") #nothing about this field in task(email)\n",
    "\n",
    "total_weixin_biz.printSchema()\n",
    "total_weixin_click.printSchema()"
   ]
  },
  {
   "cell_type": "code",
   "execution_count": 6,
   "metadata": {},
   "outputs": [
    {
     "name": "stdout",
     "output_type": "stream",
     "text": [
      "root\n",
      " |-- ID: string (nullable = true)\n",
      " |-- Biz ID: string (nullable = true)\n",
      " |-- Biz Name: string (nullable = true)\n",
      " |-- Biz Code: string (nullable = true)\n",
      " |-- Biz Description: string (nullable = true)\n",
      " |-- QRcode: string (nullable = true)\n",
      " |-- Timestamp: string (nullable = true)\n",
      "\n"
     ]
    }
   ],
   "source": [
    "old_Names_biz = total_weixin_biz.schema.names\n",
    "new_Names_biz = [\"ID\", \"Biz ID\", \"Biz Name\", \"Biz Code\", \"Biz Description\", \"QRcode\", \"Timestamp\"]\n",
    "\n",
    "df_biz = reduce(lambda total_weixin_biz, idx: total_weixin_biz.withColumnRenamed(old_Names_biz[idx], new_Names_biz[idx]), range(len(old_Names_biz)), total_weixin_biz)\n",
    "df_biz.printSchema()"
   ]
  },
  {
   "cell_type": "code",
   "execution_count": 7,
   "metadata": {},
   "outputs": [
    {
     "name": "stdout",
     "output_type": "stream",
     "text": [
      "['_c0', '_c1', '_c2', '_c3', '_c4', '_c6']\n",
      "root\n",
      " |-- ID: string (nullable = true)\n",
      " |-- URL: string (nullable = true)\n",
      " |-- Title: string (nullable = true)\n",
      " |-- Read Number: string (nullable = true)\n",
      " |-- Like Number: string (nullable = true)\n",
      " |-- Timestamp: string (nullable = true)\n",
      "\n"
     ]
    }
   ],
   "source": [
    "old_Names_click = total_weixin_click.schema.names\n",
    "print(old_Names_click)\n",
    "new_Names_click = [\"ID\", \"URL\", \"Title\", \"Read Number\", \"Like Number\", \"Timestamp\"]\n",
    "\n",
    "df_click = reduce(lambda total_weixin_click, idx: total_weixin_click.withColumnRenamed(old_Names_click[idx], new_Names_click[idx]), range(len(old_Names_click)), total_weixin_click)\n",
    "df_click.printSchema()\n"
   ]
  },
  {
   "cell_type": "code",
   "execution_count": 20,
   "metadata": {},
   "outputs": [
    {
     "name": "stdout",
     "output_type": "stream",
     "text": [
      "+--------+--------------------+--------------------+-----------+-----------+----------+----------------+\n",
      "|      ID|                 URL|               Title|Read Number|Like Number| Timestamp|          Biz ID|\n",
      "+--------+--------------------+--------------------+-----------+-----------+----------+----------------+\n",
      "|54519242|http://mp.weixin....|5岁男孩近视一年间飙升至900度,...|       2120|          4|2016-01-31|MTE1OTE0MzU2MQ==|\n",
      "|54324257|http://mp.weixin....|中国人是怎样暴富的（过去靠房子，现...|       8099|         15|2016-01-31|MTQzMDIyODg2MQ==|\n",
      "|54602445|http://mp.weixin....|南京下雪了！看南京人是怎么庆祝这场...|      10910|         60|2016-01-31|MjE3MDEzMzg2MQ==|\n",
      "|54473599|http://mp.weixin....|周末鄂尔多斯新一股冷空气来袭&nb...|       2043|          2|2016-01-31|MjM5MDAwNDY1Mg==|\n",
      "|54608008|http://mp.weixin....|为什么你的男朋友总是不理你？中五条...|       4561|          3|2016-01-31|MjM5MDAxMTU2MA==|\n",
      "|54499236|http://mp.weixin....|           【安全防火过新年】|          6|          2|2016-01-31|MjM5MDAzNTI2NQ==|\n",
      "|54472329|http://mp.weixin....| 这条裤子，今年春天可能要霸占时尚圈了！|        509|          0|2016-01-31|MjM5MDE4MzkwMA==|\n",
      "|54604079|http://mp.weixin....| #假期书单#凤凰网2015年度十大小说|         58|          0|2016-01-31|MjM5MDE5MzQxMg==|\n",
      "|54469667|http://mp.weixin....|王健林开讲啦：《再坚持一会儿》致2...|        282|          1|2016-01-31|MjM5MDExMTI2Mw==|\n",
      "|54361727|http://mp.weixin....|春节期间，你有必要了解一下，这样吃...|         47|          0|2016-01-31|MjM5MDExNzk2MA==|\n",
      "+--------+--------------------+--------------------+-----------+-----------+----------+----------------+\n",
      "only showing top 10 rows\n",
      "\n"
     ]
    },
    {
     "data": {
      "text/plain": [
       "257749"
      ]
     },
     "execution_count": 20,
     "metadata": {},
     "output_type": "execute_result"
    }
   ],
   "source": [
    "#drop duplicate according to task\n",
    "clean_weixin_click = df_click.orderBy(\"ID\", \"URL\", \"Title\", col(\"Read Number\").desc(), \"Like Number\", \"Timestamp\") \\\n",
    "                    .dropDuplicates([\"URL\"])\n",
    "c_w_c = clean_weixin_click.withColumn(\"Biz ID\", regexp_extract(\"URL\", '_biz=(.*?)&', 0)) \\\n",
    "                        .select(\"ID\", \"URL\", \"Title\", \"Read Number\", \"Like Number\", \"Timestamp\", regexp_replace('Biz ID', '_biz=', '').alias('Biz ID')).cache() \\\n",
    "                        .select(\"ID\", \"URL\", \"Title\", \"Read Number\", \"Like Number\", \"Timestamp\", regexp_replace('Biz ID', '&', '').alias('Biz ID')).cache()           \n",
    "c_w_c.cache()\n",
    "c_w_c.show(10)\n",
    "c_w_c.count()"
   ]
  },
  {
   "cell_type": "code",
   "execution_count": 21,
   "metadata": {},
   "outputs": [
    {
     "name": "stdout",
     "output_type": "stream",
     "text": [
      "+-------+----------------+-------------+--------------------+--------------------+--------------------+---------+\n",
      "|     ID|          Biz ID|     Biz Name|            Biz Code|     Biz Description|              QRcode|Timestamp|\n",
      "+-------+----------------+-------------+--------------------+--------------------+--------------------+---------+\n",
      "|1000019|MzAwMTYwMjAwNg==|       新注册公众号|                null|                服务大众|http://mp.weixin....|     null|\n",
      "|1000549|MzAwNjI4MTg4Mw==|        河源万仟堂|              hywqt8|&nbsp;&nbsp;&nbsp...|http://mp.weixin....|     null|\n",
      "|1000579|MzAxODA1Mjk4OQ==|       华东师大考研|  huadongshidakaoyan|及时为报考华东师范大学的考生提供考...|http://mp.weixin....|     null|\n",
      "|1000829|MjM5ODA2MjAwMA==|          墨入水|     weixin_morushui|墨入水的情、色、诗、画，生活即是这...|http://mp.weixin....|     null|\n",
      "|1000855|MzAwNjU5NzQ4OQ==|         AF珠宝|                null|专注彩色宝石，天然水晶，珠宝，银饰...|http://mp.weixin....|     null|\n",
      "|1001025|MzAwNTYwNzc2Mw==|LifeMagicians|       LifeMagicians|生活魔法师帮助追求生活，面对晚餐有...|http://mp.weixin....|     null|\n",
      "|1001586|MjM5OTY4NzA2Nw==|         高铁时代|zhuozhougaotieshidai|涿州唯一一梯两户，南北通透户型，清...|http://mp.weixin....|     null|\n",
      "|1001592|MzAwMTU3NTMzNQ==|       屹商企业集团|                null|企业推荐上市Q版/E版/新三板挂牌...|http://mp.weixin....|     null|\n",
      "|1001601|MzAwODMzMDg4Nw==|     舞媚舞蹈培训中心|            Dance_WM|恋舞吧舞媚舞蹈，开设少儿、成人、艺...|http://mp.weixin....|     null|\n",
      "|1001736|MzA3MzEzMDgxMA==|    百欧欢有机农夫厨坊|   BIOFarmerskitchen|不是餐厅、也不是厨房，是爱做菜的有...|http://mp.weixin....|     null|\n",
      "+-------+----------------+-------------+--------------------+--------------------+--------------------+---------+\n",
      "only showing top 10 rows\n",
      "\n",
      "2559805\n"
     ]
    }
   ],
   "source": [
    "#I found some duplicate records\n",
    "clean_weixin_biz = df_biz.dropDuplicates([\"ID\", \"Biz ID\"])\n",
    "clean_weixin_biz.cache()\n",
    "clean_weixin_biz.show(10)\n",
    "print(clean_weixin_biz.count())"
   ]
  },
  {
   "cell_type": "code",
   "execution_count": 19,
   "metadata": {},
   "outputs": [
    {
     "name": "stdout",
     "output_type": "stream",
     "text": [
      "+----------------+--------------------+--------------------+-------------------+----------+\n",
      "|          Biz ID|                 Url|               Title|       Publish Date| Timestamp|\n",
      "+----------------+--------------------+--------------------+-------------------+----------+\n",
      "|MzAwOTI5NjczNA==|http://mp.weixin....|【成都精锐教育推荐】2016寒假颁...|2016-01-30 17:35:43|2016-01-31|\n",
      "|MzA5NTcyNzk2NA==|http://mp.weixin....|茂名大道电白段坑漕路面昨天报道后市...|2016-01-30 16:48:34|2016-01-31|\n",
      "|MzA3NDU1MTYwNg==|http://mp.weixin....|   为生孩子问题，婆媳姑嫂大战火力全开|2016-01-30 16:50:30|2016-01-31|\n",
      "|MzA5OTI2NjAyMA==|http://mp.weixin....|有白发的朋友快收藏啊！白发不见皮肤...|2016-01-30 17:18:06|2016-01-31|\n",
      "|MzA3NTQ2MDAyNA==|http://mp.weixin....|  夫妻生活常做这些危害很大，赶紧戒了吧|2016-01-30 15:27:56|2016-01-31|\n",
      "|MzAwNDcwMzY1MA==|http://mp.weixin....|             因为我十分爱你|2016-01-30 11:40:27|2016-01-31|\n",
      "|MjM5NjkyNzM2MQ==|http://mp.weixin....|【单身交友】香港的味道，藏在每条大...|2016-01-30 17:21:49|2016-01-31|\n",
      "|MzA4ODI4NTY4MA==|http://mp.weixin....|★下午刚发生，10000年难遇一次...|2016-01-30 14:34:59|2016-01-31|\n",
      "|MzA4ODkzODIwOA==|http://mp.weixin....|插播一条消息：第二期“星”拍全家福...|2016-01-30 17:09:10|2016-01-31|\n",
      "|MzA5NTI1NjAzMw==|http://mp.weixin....|【来讲讲身边肯对自己下狠手拼了命努...|2016-01-30 17:13:00|2016-01-31|\n",
      "+----------------+--------------------+--------------------+-------------------+----------+\n",
      "only showing top 10 rows\n",
      "\n"
     ]
    },
    {
     "data": {
      "text/plain": [
       "DataFrame[Biz ID: string, Url: string, Title: string, Publish Date: string, Timestamp: string]"
      ]
     },
     "execution_count": 19,
     "metadata": {},
     "output_type": "execute_result"
    }
   ],
   "source": [
    "logFile = \"/Users/maksim/Downloads/wechat_data_medium/weixin_page_test\"  \n",
    "logData = spark.read.text(logFile).cache()\n",
    "\n",
    "biz_num = logData.withColumn(\"biz\", regexp_extract(\"value\", 'var biz = \"(.*?)\"', 0)) \\\n",
    "                .filter(\"biz != ''\") \\\n",
    "                .select(regexp_extract('biz', r'\"([^\"]*)\"', 0).alias(\"Biz ID\")) \\\n",
    "                .select(regexp_replace('Biz ID', '\"', '').alias('Biz ID')) \n",
    "\n",
    "                \n",
    "url = logData.withColumn(\"url\", regexp_extract(\"value\", '<URL>(.*?)</URL>', 0)) \\\n",
    "                .filter(\"url != ''\") \\\n",
    "                .select(regexp_replace('url', '<(.*?)>', '').alias('Url'))\n",
    "\n",
    "\n",
    "title = logData.withColumn(\"title\", regexp_extract(\"value\", '<TITLE>(.*?)</TITLE>', 0)) \\\n",
    "                .filter(\"title != ''\") \\\n",
    "                .select(regexp_replace('title', '<(.*?)>', '').alias('Title'))\n",
    "\n",
    "            \n",
    "conv_date = udf(lambda x: datetime.fromtimestamp(x).strftime('%Y-%m-%d %H:%M:%S'))     \n",
    "\n",
    "ct = logData.withColumn(\"ct\", regexp_extract(\"value\", 'var ct = \"(.*?)\"', 0)) \\\n",
    "                .filter(\"ct != ''\") \\\n",
    "                .select(regexp_extract('ct', r'\"([^\"]*)\"', 0).alias(\"ct\")) \\\n",
    "                .select(regexp_replace('ct', '\"', '').alias('Publish Date').cast(IntegerType())) \\\n",
    "                .select(conv_date('Publish Date').alias(\"Publish Date\"))\n",
    "\n",
    "date2 = logData.withColumn(\"Timestamp\", regexp_extract(\"value\", '<DATE>(.*?)</DATE>', 0)) \\\n",
    "                .filter(\"Timestamp != ''\") \\\n",
    "                .select(regexp_replace('Timestamp', '<(.*?)>', '').alias('Timestamp'))\n",
    "\n",
    "  \n",
    "    \n",
    "#content = logData.withColumn(\"content\", regexp_extract(\"value\", '<HTML>(.*?)</HTML>', 0)) \\\n",
    "#                 .select(regexp_replace('content', '<(.*?)>', '').alias('content'))\n",
    "#content.take(5)\n",
    "\n",
    "# .filter(\"content != ''\") \\\n",
    "\n",
    "def with_column_index(sdf): \n",
    "    new_schema = StructType(sdf.schema.fields + [StructField(\"ColumnIndex\", LongType(), False),])\n",
    "    return sdf.rdd.zipWithIndex().map(lambda row: row[0] + (row[1],)).toDF(schema=new_schema)\n",
    "\n",
    "df_biz_num = with_column_index(biz_num)\n",
    "df_url = with_column_index(url)\n",
    "df_title = with_column_index(title)\n",
    "df_ct = with_column_index(ct)\n",
    "df_date2 = with_column_index(date2)\n",
    "\n",
    "join_on_index = df_biz_num.join(df_url, [\"ColumnIndex\"]).join(df_title, [\"ColumnIndex\"]).join(df_ct, [\"ColumnIndex\"]).join(df_date2, [\"ColumnIndex\"]).drop(\"ColumnIndex\")\n",
    "join_on_index.show(10)\n",
    "join_on_index.cache()\n",
    "\n"
   ]
  },
  {
   "cell_type": "code",
   "execution_count": 13,
   "metadata": {},
   "outputs": [
    {
     "name": "stdout",
     "output_type": "stream",
     "text": [
      "root\n",
      " |-- Biz ID: string (nullable = true)\n",
      " |-- Url: string (nullable = true)\n",
      " |-- Title: string (nullable = true)\n",
      " |-- Publish Date: string (nullable = true)\n",
      " |-- Timestamp: string (nullable = true)\n",
      "\n"
     ]
    }
   ],
   "source": [
    "join_on_index.printSchema()"
   ]
  },
  {
   "cell_type": "code",
   "execution_count": 18,
   "metadata": {},
   "outputs": [
    {
     "name": "stdout",
     "output_type": "stream",
     "text": [
      "root\n",
      " |-- Article URL: string (nullable = true)\n",
      " |-- Article title: string (nullable = true)\n",
      " |-- Read Number: string (nullable = true)\n",
      " |-- Like Number: string (nullable = true)\n",
      " |-- Biz ID: string (nullable = true)\n",
      " |-- Biz Description: string (nullable = true)\n",
      " |-- Biz Name: string (nullable = true)\n",
      " |-- Publish Date: string (nullable = true)\n",
      "\n"
     ]
    }
   ],
   "source": [
    "join_final_temp = c_w_c.join(broadcast(join_on_index), [\"Biz ID\"])\n",
    "join_final = join_final_temp.select( \"Biz ID\", join_on_index[\"URL\"].alias(\"Article URL\"), \"Read Number\", \"Like Number\", join_on_index[\"Title\"].alias(\"Article title\"), \"Publish Date\")\n",
    "                            \n",
    "join_final_2_temp = join_final.join(clean_weixin_biz, [\"Biz ID\"])\n",
    "join_final_2 = join_final_2_temp.select(\"Article URL\", \"Article title\", \"Read Number\", \"Like Number\", \"Biz ID\", \"Biz Description\", \"Biz Name\", \"Publish Date\")\n",
    "\n",
    "\n",
    "\n",
    "join_final_2.repartition(1).write.csv(\"/Users/maksim/Downloads/cwc_out.csv\", sep='|', header=True)\n",
    "join_final_2.printSchema()\n"
   ]
  },
  {
   "cell_type": "code",
   "execution_count": null,
   "metadata": {},
   "outputs": [],
   "source": []
  }
 ],
 "metadata": {
  "kernelspec": {
   "display_name": "Python 3",
   "language": "python",
   "name": "python3"
  },
  "language_info": {
   "codemirror_mode": {
    "name": "ipython",
    "version": 3
   },
   "file_extension": ".py",
   "mimetype": "text/x-python",
   "name": "python",
   "nbconvert_exporter": "python",
   "pygments_lexer": "ipython3",
   "version": "3.6.4"
  }
 },
 "nbformat": 4,
 "nbformat_minor": 2
}
